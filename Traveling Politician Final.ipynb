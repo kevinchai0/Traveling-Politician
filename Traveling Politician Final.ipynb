{
 "cells": [
  {
   "cell_type": "code",
   "execution_count": 1,
   "metadata": {},
   "outputs": [],
   "source": [
    "import pandas as pd\n",
    "import numpy as np\n",
    "import math\n",
    "from sympy.combinatorics import Permutation\n",
    "from itertools import permutations "
   ]
  },
  {
   "cell_type": "markdown",
   "metadata": {},
   "source": [
    "Function to calculate distances between longitudes and latitudes.\n",
    "\n",
    "Credits to: https://gist.github.com/rochacbruno/2883505"
   ]
  },
  {
   "cell_type": "code",
   "execution_count": 2,
   "metadata": {},
   "outputs": [],
   "source": [
    "def distance(origin, destination):\n",
    "    lat1, lon1 = origin\n",
    "    lat2, lon2 = destination\n",
    "    radius = 6371 # km\n",
    "\n",
    "    dlat = math.radians(lat2-lat1)\n",
    "    dlon = math.radians(lon2-lon1)\n",
    "    a = math.sin(dlat/2) * math.sin(dlat/2) + math.cos(math.radians(lat1)) \\\n",
    "        * math.cos(math.radians(lat2)) * math.sin(dlon/2) * math.sin(dlon/2)\n",
    "    c = 2 * math.atan2(math.sqrt(a), math.sqrt(1-a))\n",
    "    d = radius * c\n",
    "\n",
    "    return d"
   ]
  },
  {
   "cell_type": "code",
   "execution_count": 3,
   "metadata": {},
   "outputs": [],
   "source": [
    "def long_lat(abbreviation):\n",
    "    table = capitals.loc[capitals[\"abbreviation\"] == abbreviation]\n",
    "    long = table[\"longitude\"].values[0]\n",
    "    lat = table[\"latitude\"].values[0]\n",
    "    return [long,lat]"
   ]
  },
  {
   "cell_type": "code",
   "execution_count": 15,
   "metadata": {},
   "outputs": [],
   "source": [
    "capitals = pd.read_csv(\"us-state-capitals.csv\")\n",
    "state_abbreviations = list(capitals[\"abbreviation\"])"
   ]
  },
  {
   "cell_type": "code",
   "execution_count": 18,
   "metadata": {},
   "outputs": [
    {
     "data": {
      "text/plain": [
       "1841.7985989220033"
      ]
     },
     "execution_count": 18,
     "metadata": {},
     "output_type": "execute_result"
    }
   ],
   "source": [
    "start = long_lat(\"IA\")\n",
    "end = [-77.0369, 38.8951] #longitude and latitude for the white house(ending point)\n",
    "distance(start,end)"
   ]
  },
  {
   "cell_type": "code",
   "execution_count": 64,
   "metadata": {},
   "outputs": [],
   "source": [
    "def total_distance(start, middle_states, end):\n",
    "    total_dist = 0\n",
    "    path = []\n",
    "    ret = {}\n",
    "    for i in range(len(middle_states)):\n",
    "        total_dist += distance(start, (long_lat(middle_states[i])))\n",
    "        path.append(middle_states[i])\n",
    "        start = long_lat(middle_states[i])    \n",
    "        \n",
    "#adding path to DC\n",
    "    total_dist += distance(long_lat(middle_states[-1]), end)\n",
    "    path.append(\"D.C\")\n",
    "    ret[total_dist] = path\n",
    "    return ret"
   ]
  },
  {
   "cell_type": "code",
   "execution_count": 103,
   "metadata": {
    "scrolled": true
   },
   "outputs": [],
   "source": [
    "def shortest_path(middle_states):\n",
    "    all_distances = []\n",
    "    final = []\n",
    "    perms = list(permutations(middle_states))\n",
    "    start = long_lat(\"IA\")\n",
    "    end = [-77.0369, 38.8951] #longitude and latitude for the white house(ending point)\n",
    "    for perm in perms:\n",
    "        x = total_distance(start, perm, end)\n",
    "        final.append(x)\n",
    "        all_distances.append(list(x.keys())[0])\n",
    "    min_dist = min(all_distances)\n",
    "    for dict in final:\n",
    "        if min_dist in dict.keys():\n",
    "            final_path = dict.get(min_dist)\n",
    "    return (final_path,min_dist)"
   ]
  },
  {
   "cell_type": "code",
   "execution_count": 109,
   "metadata": {},
   "outputs": [],
   "source": [
    "def run():\n",
    "    middle_states = []\n",
    "    input_nums = int(input(\"How many states do you want to visit? \"))\n",
    "    while input_nums > 0:\n",
    "        input_state = input(\"Enter the capitalized state abbreviation of a state you want to visit: \")\n",
    "        if input_state not in state_abbreviations:\n",
    "            print (\"Invalid state\")\n",
    "        else:\n",
    "            middle_states.append(input_state)\n",
    "            input_nums -= 1\n",
    "    return shortest_path(middle_states)"
   ]
  },
  {
   "cell_type": "code",
   "execution_count": null,
   "metadata": {},
   "outputs": [],
   "source": [
    "run()"
   ]
  }
 ],
 "metadata": {
  "kernelspec": {
   "display_name": "Python 3",
   "language": "python",
   "name": "python3"
  },
  "language_info": {
   "codemirror_mode": {
    "name": "ipython",
    "version": 3
   },
   "file_extension": ".py",
   "mimetype": "text/x-python",
   "name": "python",
   "nbconvert_exporter": "python",
   "pygments_lexer": "ipython3",
   "version": "3.6.9"
  }
 },
 "nbformat": 4,
 "nbformat_minor": 4
}
